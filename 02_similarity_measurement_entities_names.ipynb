{
 "cells": [
  {
   "cell_type": "code",
   "execution_count": 2,
   "id": "8643acac",
   "metadata": {},
   "outputs": [],
   "source": [
    "import requests\n",
    "import json\n",
    "import pickle\n",
    "import editdistance\n",
    "import re\n",
    "import numpy as np \n",
    "from fastDamerauLevenshtein import damerauLevenshtein"
   ]
  },
  {
   "cell_type": "markdown",
   "id": "1b873c99",
   "metadata": {},
   "source": [
    "Prior to measuring pairwise similarities across a list of entities, I would be excluding any entities that go by only one word count"
   ]
  },
  {
   "cell_type": "code",
   "execution_count": 3,
   "id": "aba18481",
   "metadata": {},
   "outputs": [],
   "source": [
    "entities_names = pickle.load(open(\"all_indivs.pickle\", 'rb'))"
   ]
  },
  {
   "cell_type": "code",
   "execution_count": 7,
   "id": "83497adc",
   "metadata": {},
   "outputs": [],
   "source": [
    "# remove one word entity\n",
    "# sub any non-alphanum-character w/ \"\"\n",
    "entities_alphnum_only = [\"\".join(char.lower() for char in entity_name if char.isalnum() or char == \" \") \n",
    "                         for entity_name in entities_names\n",
    "                        if len(entity_name.split()) > 1]"
   ]
  },
  {
   "cell_type": "code",
   "execution_count": 4,
   "id": "39a3bf2f",
   "metadata": {},
   "outputs": [
    {
     "data": {
      "text/plain": [
       "32169"
      ]
     },
     "execution_count": 4,
     "metadata": {},
     "output_type": "execute_result"
    }
   ],
   "source": [
    "len(entities_alphnum_only)"
   ]
  },
  {
   "cell_type": "code",
   "execution_count": 43,
   "id": "cbc95065",
   "metadata": {},
   "outputs": [],
   "source": [
    "def cal_edit_distance(words_1, words_2):\n",
    "  \"\"\"\n",
    "  calculates the sum of minimum edit distances between words.\n",
    "\n",
    "  Args:\n",
    "      words_1: strings of word to be compared with\n",
    "      words_2: strings of word to be compared with\n",
    "\n",
    "  Returns:\n",
    "    the value of the sum of minimum edit distances for each word comparison.\n",
    "  \"\"\"\n",
    "\n",
    "  query_words = words_1.split()\n",
    "  target_words = words_2.split()\n",
    "\n",
    "  len_target = len(target_words)\n",
    "\n",
    "  # Calculate sum of minimum edit distances for each word pair\n",
    "  min_edit_distance_sum = 0\n",
    "  for query_word in query_words:\n",
    "    \n",
    "    edit_distance_arr = np.array([editdistance.eval(query_word, w) for w in target_words], dtype=np.int16)\n",
    "    \n",
    "    min_idx = np.argmin(edit_distance_arr)\n",
    "    target_words.pop(min_idx)\n",
    "    min_edit_distance_sum += min(edit_distance_arr)\n",
    "    if len(target_words) == 0:\n",
    "        break\n",
    "\n",
    "  return min_edit_distance_sum"
   ]
  },
  {
   "cell_type": "code",
   "execution_count": 44,
   "id": "ba55da15",
   "metadata": {},
   "outputs": [],
   "source": [
    "def compare_strings_pairwise(string_list):\n",
    "  \"\"\"\n",
    "  Compares strings in a list pairwise and calculates the sum of minimum edit distances between words.\n",
    "\n",
    "  Args:\n",
    "      string_list: A list of strings to be compared.\n",
    "\n",
    "  Returns:\n",
    "      A dictionary where the key is the target string and the value is the sum of minimum edit distances for each word comparison.\n",
    "  \"\"\"\n",
    "\n",
    "  n_string = len(string_list)\n",
    "  min_dist_result = np.zeros((n_string, n_string), dtype=np.int16)\n",
    "  for i in range(n_string):\n",
    "    for j in range(n_string):\n",
    "        if i == j:\n",
    "            min_dist_result[i, j] = 0\n",
    "        else:\n",
    "            min_dist_result[i, j] = cal_edit_distance(string_list[i], string_list[j])\n",
    "  return min_dist_result"
   ]
  },
  {
   "cell_type": "code",
   "execution_count": 45,
   "id": "9795f730",
   "metadata": {},
   "outputs": [
    {
     "data": {
      "text/plain": [
       "array([[ 0, 16, 14, 13],\n",
       "       [15,  0, 10, 11],\n",
       "       [14, 10,  0,  8],\n",
       "       [19, 17, 16,  0]], dtype=int16)"
      ]
     },
     "execution_count": 45,
     "metadata": {},
     "output_type": "execute_result"
    }
   ],
   "source": [
    "compare_strings_pairwise(entities_alphnum_only[1:5])"
   ]
  },
  {
   "cell_type": "code",
   "execution_count": 47,
   "id": "6cda076c",
   "metadata": {},
   "outputs": [],
   "source": [
    "all_edit_dist = compare_strings_pairwise(entities_alphnum_only)"
   ]
  },
  {
   "cell_type": "code",
   "execution_count": 48,
   "id": "68e3a9a6",
   "metadata": {},
   "outputs": [
    {
     "data": {
      "text/plain": [
       "array([[ 0, 14, 12, ...,  8, 13, 11],\n",
       "       [14,  0, 16, ..., 16, 12, 13],\n",
       "       [11, 15,  0, ..., 11, 12, 11],\n",
       "       ...,\n",
       "       [ 8, 16, 11, ...,  0, 11, 11],\n",
       "       [10, 12, 12, ..., 11,  0,  9],\n",
       "       [11, 15, 13, ..., 11,  9,  0]], dtype=int16)"
      ]
     },
     "execution_count": 48,
     "metadata": {},
     "output_type": "execute_result"
    }
   ],
   "source": [
    "all_edit_dist"
   ]
  },
  {
   "cell_type": "code",
   "execution_count": 49,
   "id": "8d5da4eb",
   "metadata": {},
   "outputs": [],
   "source": [
    "#np.save(\"edit_distance_result\",all_edit_dist.astype(int) )"
   ]
  }
 ],
 "metadata": {
  "kernelspec": {
   "display_name": "Python 3 (ipykernel)",
   "language": "python",
   "name": "python3"
  },
  "language_info": {
   "codemirror_mode": {
    "name": "ipython",
    "version": 3
   },
   "file_extension": ".py",
   "mimetype": "text/x-python",
   "name": "python",
   "nbconvert_exporter": "python",
   "pygments_lexer": "ipython3",
   "version": "3.9.13"
  }
 },
 "nbformat": 4,
 "nbformat_minor": 5
}
